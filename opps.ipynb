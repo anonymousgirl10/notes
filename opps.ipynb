{
 "cells": [
  {
   "cell_type": "raw",
   "id": "1c61cad2-bd6b-4f7b-8796-8dbf84a38867",
   "metadata": {},
   "source": [
    "1. prepare a student record using class & object"
   ]
  },
  {
   "cell_type": "code",
   "execution_count": null,
   "id": "94a99cad-70e2-4ae0-95ee-053db817fe59",
   "metadata": {},
   "outputs": [],
   "source": [
    "#include <iostream>\n",
    "#include <string>\n",
    "using namespace std;\n",
    "\n",
    "class Student {\n",
    "private:\n",
    "\tstring name;\n",
    "    int age;\n",
    "    double grade;\n",
    "public:\n",
    "\tStudent(string n, int a, double g) : name (n), age (a), grade (g) {}\n",
    "    \n",
    "    void display() {\n",
    "    cout<<\"Name:\"<<name<<endl;\n",
    "    cout<<\"Age:\"<<age<<endl;\n",
    "    cout<<\"Grade:\"<<grade<<endl;\n",
    "    }\n",
    "};\n",
    "\n",
    "int main() {\n",
    "Student s1(\"Aathi\", 19, 90.5);\n",
    "Student s2(\"Aathi\", 19, 90.5);\n",
    "s1.display();\n",
    "s2.display();\n",
    "return 0;\n",
    "}"
   ]
  },
  {
   "cell_type": "code",
   "execution_count": null,
   "id": "f5ef6300-bba3-4eba-b29b-180b07a53639",
   "metadata": {},
   "outputs": [],
   "source": [
    "Name:Aathi\n",
    "Age:19\n",
    "Grade:90.5\n",
    "Name:Aathi\n",
    "Age:19\n",
    "Grade:90.5"
   ]
  },
  {
   "cell_type": "code",
   "execution_count": null,
   "id": "ac37afbe-820b-4f0c-834a-68dcf5024829",
   "metadata": {},
   "outputs": [],
   "source": [
    "2.Write a C++ program to find the sum for the given variables using function default arguments."
   ]
  },
  {
   "cell_type": "code",
   "execution_count": null,
   "id": "1bc5cbfd-9760-4fc1-bbd2-6407ad90cdc3",
   "metadata": {},
   "outputs": [],
   "source": [
    "#include <iostream>\n",
    "using namespace std;\n",
    "\n",
    "int findsum(int a, int b=0, int c=0, int d=0){\n",
    "\treturn a+b+c+d;\n",
    "}\n",
    "\n",
    "int main(){\n",
    "int result1 = findsum(5);\n",
    "int result2 = findsum(2, 8);\n",
    "int result3 = findsum(1, 2, 3);\n",
    "int result4 = findsum(1, 2, 3, 4);\n",
    "\n",
    "cout<<\"Result1:\"<<result1<<endl;\n",
    "cout<<\"Result2:\"<<result2<<endl;\n",
    "cout<<\"Result3:\"<<result3<<endl;\n",
    "cout<<\"Result4:\"<<result4<<endl;\n",
    "return 0;\n",
    "}"
   ]
  },
  {
   "cell_type": "code",
   "execution_count": null,
   "id": "e982f24e-4359-433e-8032-084529ebed1a",
   "metadata": {},
   "outputs": [],
   "source": [
    "Result1:5\n",
    "Result2:10\n",
    "Result3:6\n",
    "Result4:10"
   ]
  },
  {
   "cell_type": "code",
   "execution_count": null,
   "id": "adfef696-ab71-4655-98a8-d88305480fee",
   "metadata": {},
   "outputs": [],
   "source": [
    "3.Write a C++ program to find the value of a number raised to its power that demonstrates a   function using call by value."
   ]
  },
  {
   "cell_type": "code",
   "execution_count": null,
   "id": "af828809-0a2a-4826-b199-a3c6024af464",
   "metadata": {},
   "outputs": [],
   "source": [
    "#include <iostream>\n",
    "using namespace std;\n",
    "\n",
    "double cal(double base, int exp){\n",
    "  double result = 1.0;\n",
    "\n",
    "    for(int i = 0; i < exp; ++i){\n",
    "    result *= base;\n",
    "    }\n",
    "\n",
    "    return result;\n",
    "}\n",
    "\n",
    "int main(){\n",
    "double base;\n",
    "int exp;\n",
    "\n",
    "cout<<\"ent the val of base:\";\n",
    "cin>>base;\n",
    "\n",
    "cout<<\"\\n ent the val of exp:\";\n",
    "cin>>exp;\n",
    "\n",
    "double result = cal(base, exp);\n",
    "cout<<\"\\n Result:\"<<result<<endl;\n",
    "return 0;\n",
    "}"
   ]
  },
  {
   "cell_type": "code",
   "execution_count": null,
   "id": "4cc7c36c-e1af-4ef2-b1c0-3a3703fdc781",
   "metadata": {},
   "outputs": [],
   "source": [
    "ent the val of base:2   \n",
    "\n",
    " ent the val of exp:10\n",
    "\n",
    " Result:1024\n"
   ]
  },
  {
   "cell_type": "code",
   "execution_count": null,
   "id": "c6f33e12-1706-40ad-a7b2-3487b38d9cdd",
   "metadata": {},
   "outputs": [],
   "source": [
    "4.Write a C++ program and to implement the concept of Call by Address."
   ]
  },
  {
   "cell_type": "code",
   "execution_count": null,
   "id": "a92afdcd-f057-406b-afd7-62ba3cd5a611",
   "metadata": {},
   "outputs": [],
   "source": [
    "#include <iostream>\n",
    "using namespace std;\n",
    "\n",
    "void swap(int* add1, int* add2){\n",
    "\tint temp = *add1;\n",
    "    *add1 = *add2;\n",
    "    *add2 = temp;\n",
    "}\n",
    "\n",
    "int main()\n",
    "{\n",
    " int num1 = 10; int num2 = 5;\n",
    " \n",
    " cout<<\"before swap:\"<<endl;\n",
    " cout<<\"num1:\"<<num1<<endl;\n",
    " cout<<\"num2:\"<<num2<<endl;\n",
    " \n",
    " swap(&num1, &num2);\n",
    " \n",
    " cout<<\"after swap:\"<<endl;\n",
    " cout<<\"num1:\"<<num1<<endl;\n",
    " cout<<\"num2:\"<<num2<<endl;\n",
    " return 0;\n",
    "}"
   ]
  },
  {
   "cell_type": "code",
   "execution_count": null,
   "id": "239e3a1c-e80d-43d1-922b-9c26222d064a",
   "metadata": {},
   "outputs": [],
   "source": [
    "before swap:\n",
    "num1:10\n",
    "num2:5\n",
    "after swap:\n",
    "num1:5\n",
    "num2:10"
   ]
  },
  {
   "cell_type": "code",
   "execution_count": null,
   "id": "bc27439d-21b8-4d12-a257-b4cbfb967a78",
   "metadata": {},
   "outputs": [],
   "source": [
    "5.Write a C++ program for implementing the function overloading."
   ]
  },
  {
   "cell_type": "code",
   "execution_count": null,
   "id": "ea2d8fe2-6f6c-4978-941f-090901268cf8",
   "metadata": {},
   "outputs": [],
   "source": [
    "#include <iostream>\n",
    "using namespace std;\n",
    "\n",
    "int add(int a, int b){\n",
    "\treturn a + b;\n",
    "}\n",
    "\n",
    "int add(int a, int b, int c){\n",
    "\treturn a+b+c;\n",
    "}\n",
    "\n",
    "int main()\n",
    "{\n",
    " cout<<\"sum1:\"<<add(5, 8)<<endl;\n",
    " cout<<\"sum2:\"<<add(5, 8 , 10)<<endl;\n",
    " return 0;\n",
    "}"
   ]
  },
  {
   "cell_type": "code",
   "execution_count": null,
   "id": "d819e3ac-a4eb-4348-a7d1-85d6b63bba35",
   "metadata": {},
   "outputs": [],
   "source": [
    "sum1:13\n",
    "sum2:23"
   ]
  },
  {
   "cell_type": "code",
   "execution_count": null,
   "id": "5fa6583f-0833-4b80-abab-ca936ffd6645",
   "metadata": {},
   "outputs": [],
   "source": [
    "6.Write a C++ program to find the area of circle, square and rectangle using\n",
    "function overloading"
   ]
  },
  {
   "cell_type": "code",
   "execution_count": null,
   "id": "2c073437-ccce-4ff7-9b3d-e44950c6bf5b",
   "metadata": {},
   "outputs": [],
   "source": [
    "#include <iostream>\n",
    "#include <cmath>\n",
    "using namespace std;\n",
    "\n",
    "double PI = 3.14159265359;\n",
    "\n",
    "double findArea(double radius) {\n",
    "    return PI * radius * radius;\n",
    "}\n",
    "\n",
    "double findAreaSquare(double side) {\n",
    "    return side * side;\n",
    "}\n",
    "\n",
    "double findArea(double length, double width) {\n",
    "    return length * width;\n",
    "}\n",
    "\n",
    "int main() {\n",
    "    double radius, side, length, width;\n",
    "\n",
    "    cout << \"enter the radius:\";\n",
    "    cin >> radius;\n",
    "\n",
    "    cout << \"enter the side:\";\n",
    "    cin >> side;\n",
    "\n",
    "    cout << \"enter the length:\";\n",
    "    cin >> length;\n",
    "\n",
    "    cout << \"enter the width:\";\n",
    "    cin >> width;\n",
    "\n",
    "    cout << \"area of circle: \" << findArea(radius) << endl;\n",
    "    cout << \"area of square: \" << findAreaSquare(side) << endl;\n",
    "    cout << \"area of rectangle: \" << findArea(length, width) << endl;\n",
    "\n",
    "    return 0;\n",
    "}\n"
   ]
  },
  {
   "cell_type": "code",
   "execution_count": null,
   "id": "1df0b789-d8bf-4adf-af49-5041a268134b",
   "metadata": {},
   "outputs": [],
   "source": [
    "enter the radius:5        \n",
    "enter the side:5\n",
    "enter the length:8\n",
    "enter the width:2\n",
    "area of circle: 78.5398\n",
    "area of square: 25\n",
    "area of rectangle: 16"
   ]
  },
  {
   "cell_type": "code",
   "execution_count": null,
   "id": "001c4008-ca46-4c82-9eb2-656d8b8e6597",
   "metadata": {},
   "outputs": [],
   "source": [
    "7.Write a C++ program to implement static data member in class by C++."
   ]
  },
  {
   "cell_type": "code",
   "execution_count": null,
   "id": "1c72567c-bb36-4cd6-ad84-593944a08c3a",
   "metadata": {},
   "outputs": [],
   "source": [
    "#include <iostream>\n",
    "#include <cmath>\n",
    "using namespace std;\n",
    "\n",
    "\n",
    "class myclass{\n",
    "private:\n",
    "\tstatic int count;\n",
    "\n",
    "public:\n",
    "\tmyclass(){\n",
    "    \tcount++;\n",
    "    }\n",
    "    \n",
    "    static int getCount(){\n",
    "    \treturn count;\n",
    "    }\n",
    "};\n",
    "\n",
    "int myclass::count = 0;\n",
    "\n",
    "\n",
    "int main(){\n",
    "myclass obj1;\n",
    "myclass obj2;\n",
    "myclass obj3;\n",
    "\n",
    "cout<<\"total obj created:\"<<myclass::getCount()<<endl;\n",
    "return 0;\n",
    "}"
   ]
  },
  {
   "cell_type": "code",
   "execution_count": null,
   "id": "c954cd71-b9e1-4059-b740-263ee1861c45",
   "metadata": {},
   "outputs": [],
   "source": [
    "total obj created:3"
   ]
  },
  {
   "cell_type": "code",
   "execution_count": null,
   "id": "5dd56c2c-7aff-4429-a9b8-6142748a988c",
   "metadata": {},
   "outputs": [],
   "source": []
  }
 ],
 "metadata": {
  "kernelspec": {
   "display_name": "Python 3 (ipykernel)",
   "language": "python",
   "name": "python3"
  },
  "language_info": {
   "name": ""
  }
 },
 "nbformat": 4,
 "nbformat_minor": 5
}
